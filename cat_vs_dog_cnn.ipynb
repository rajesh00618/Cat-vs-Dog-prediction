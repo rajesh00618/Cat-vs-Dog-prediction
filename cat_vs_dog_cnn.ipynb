{
  "cells": [
    {
      "cell_type": "code",
      "execution_count": 1,
      "metadata": {
        "colab": {
          "base_uri": "https://localhost:8080/",
          "height": 552
        },
        "id": "eWIALWAn02gd",
        "outputId": "19e787f9-e146-4c5c-bf1a-9ebb993446e9"
      },
      "outputs": [
        {
          "output_type": "stream",
          "name": "stdout",
          "text": [
            "Downloading from https://www.kaggle.com/api/v1/datasets/download/arpitjain007/dog-vs-cat-fastai?dataset_version_number=1...\n"
          ]
        },
        {
          "output_type": "stream",
          "name": "stderr",
          "text": [
            "100%|██████████| 1.60G/1.60G [00:16<00:00, 106MB/s]"
          ]
        },
        {
          "output_type": "stream",
          "name": "stdout",
          "text": [
            "Extracting files...\n"
          ]
        },
        {
          "output_type": "stream",
          "name": "stderr",
          "text": [
            "\n"
          ]
        },
        {
          "output_type": "stream",
          "name": "stdout",
          "text": [
            "Total images loaded: 23000\n",
            "X shape: (23000, 50, 50, 3)\n",
            "y shape: (23000,)\n"
          ]
        },
        {
          "output_type": "display_data",
          "data": {
            "text/plain": [
              "<Figure size 640x480 with 1 Axes>"
            ],
            "image/png": "[encoded data removed]"
          },
          "metadata": {}
        }
      ],
      "source": [
        "import numpy as np\n",
        "import cv2\n",
        "import os\n",
        "import matplotlib.pyplot as plt\n",
        "import random\n",
        "import kagglehub # Import kagglehub to use the downloaded path\n",
        "\n",
        "# Use the path from kagglehub download\n",
        "path = kagglehub.dataset_download(\"arpitjain007/dog-vs-cat-fastai\")\n",
        "DIRECTORY = os.path.join(path, 'dogscats', 'train') # Construct the correct path\n",
        "\n",
        "CATEGORIES = ['cats', 'dogs']  # folder names\n",
        "\n",
        "img_size = 50\n",
        "data = []\n",
        "\n",
        "# --- Step 1: Load Images ---\n",
        "for category in CATEGORIES:\n",
        "    folder = os.path.join(DIRECTORY, category)\n",
        "    label = CATEGORIES.index(category)  # 0 = cat, 1 = dog\n",
        "\n",
        "    for img in os.listdir(folder):\n",
        "        try:\n",
        "            img_path = os.path.join(folder, img)\n",
        "            img_arr = cv2.imread(img_path)              # read image\n",
        "            img_rgb = cv2.cvtColor(img_arr, cv2.COLOR_BGR2RGB)  # convert BGR->RGB\n",
        "            img_resized = cv2.resize(img_rgb, (img_size, img_size))  # resize\n",
        "            data.append([img_resized, label])\n",
        "        except Exception as e:\n",
        "            pass  # skip corrupted images\n",
        "\n",
        "print(f\"Total images loaded: {len(data)}\")\n",
        "\n",
        "# --- Step 2: Shuffle dataset ---\n",
        "random.shuffle(data)\n",
        "\n",
        "# --- Step 3: Split into features (X) and labels (y) ---\n",
        "X = []\n",
        "y = []\n",
        "\n",
        "for features, label in data:\n",
        "    X.append(features)\n",
        "    y.append(label)\n",
        "\n",
        "X = np.array(X) / 255.0  # normalize to 0-1\n",
        "y = np.array(y)\n",
        "\n",
        "print(\"X shape:\", X.shape)  # should be (num_images, 50, 50, 3)\n",
        "print(\"y shape:\", y.shape)  # should be (num_images,)\n",
        "\n",
        "# --- Step 4: Preview a random image ---\n",
        "plt.imshow(X[0])\n",
        "plt.title(f\"Label: {y[0]} ({'cat' if y[0]==0 else 'dog'})\")\n",
        "plt.axis(\"off\")\n",
        "plt.show()"
      ]
    },
    {
      "cell_type": "code",
      "execution_count": 2,
      "metadata": {
        "colab": {
          "base_uri": "https://localhost:8080/"
        },
        "id": "7ygBVOGn9cLt",
        "outputId": "8a0b8145-9700-4575-9745-b3873660bc07"
      },
      "outputs": [
        {
          "output_type": "stream",
          "name": "stdout",
          "text": [
            "Path to dataset files: /root/.cache/kagglehub/datasets/arpitjain007/dog-vs-cat-fastai/versions/1\n"
          ]
        }
      ],
      "source": [
        "import kagglehub\n",
        "\n",
        "# Download latest version\n",
        "path = kagglehub.dataset_download(\"arpitjain007/dog-vs-cat-fastai\")\n",
        "\n",
        "print(\"Path to dataset files:\", path)"
      ]
    },
    {
      "cell_type": "markdown",
      "metadata": {
        "id": "No-ENl2EGht2"
      },
      "source": [
        "# Train the model"
      ]
    },
    {
      "cell_type": "code",
      "execution_count": null,
      "metadata": {
        "colab": {
          "base_uri": "https://localhost:8080/"
        },
        "id": "2M4oxVjX_puH",
        "outputId": "041a18cf-1fb0-4d98-b9a0-c66c0f2b6217"
      },
      "outputs": [
        {
          "metadata": {
            "tags": null
          },
          "name": "stdout",
          "output_type": "stream",
          "text": [
            "Found 18400 images belonging to 2 classes.\n",
            "Found 4600 images belonging to 2 classes.\n"
          ]
        },
        {
          "metadata": {
            "tags": null
          },
          "name": "stderr",
          "output_type": "stream",
          "text": [
            "/usr/local/lib/python3.12/dist-packages/keras/src/layers/convolutional/base_conv.py:113: UserWarning: Do not pass an `input_shape`/`input_dim` argument to a layer. When using Sequential models, prefer using an `Input(shape)` object as the first layer in the model instead.\n",
            "  super().__init__(activity_regularizer=activity_regularizer, **kwargs)\n",
            "/usr/local/lib/python3.12/dist-packages/keras/src/trainers/data_adapters/py_dataset_adapter.py:121: UserWarning: Your `PyDataset` class should call `super().__init__(**kwargs)` in its constructor. `**kwargs` can include `workers`, `use_multiprocessing`, `max_queue_size`. Do not pass these arguments to `fit()`, as they will be ignored.\n",
            "  self._warn_if_super_not_called()\n"
          ]
        },
        {
          "output_type": "stream",
          "name": "stdout",
          "text": [
            "Epoch 1/15\n",
            "\u001b[1m575/575\u001b[0m \u001b[32m━━━━━━━━━━━━━━━━━━━━\u001b[0m\u001b[37m\u001b[0m \u001b[1m606s\u001b[0m 1s/step - accuracy: 0.6076 - loss: 0.8157 - val_accuracy: 0.6680 - val_loss: 0.6101\n",
            "Epoch 2/15\n",
            "\u001b[1m575/575\u001b[0m \u001b[32m━━━━━━━━━━━━━━━━━━━━\u001b[0m\u001b[37m\u001b[0m \u001b[1m616s\u001b[0m 1s/step - accuracy: 0.6836 - loss: 0.5910 - val_accuracy: 0.7191 - val_loss: 0.5485\n",
            "Epoch 3/15\n",
            "\u001b[1m575/575\u001b[0m \u001b[32m━━━━━━━━━━━━━━━━━━━━\u001b[0m\u001b[37m\u001b[0m \u001b[1m612s\u001b[0m 1s/step - accuracy: 0.7049 - loss: 0.5638 - val_accuracy: 0.7113 - val_loss: 0.5672\n",
            "Epoch 4/15\n",
            "\u001b[1m575/575\u001b[0m \u001b[32m━━━━━━━━━━━━━━━━━━━━\u001b[0m\u001b[37m\u001b[0m \u001b[1m612s\u001b[0m 1s/step - accuracy: 0.7193 - loss: 0.5445 - val_accuracy: 0.6898 - val_loss: 0.5797\n",
            "Epoch 5/15\n",
            "\u001b[1m575/575\u001b[0m \u001b[32m━━━━━━━━━━━━━━━━━━━━\u001b[0m\u001b[37m\u001b[0m \u001b[1m601s\u001b[0m 1s/step - accuracy: 0.7334 - loss: 0.5232 - val_accuracy: 0.7511 - val_loss: 0.5011\n",
            "Epoch 6/15\n",
            "\u001b[1m575/575\u001b[0m \u001b[32m━━━━━━━━━━━━━━━━━━━━\u001b[0m\u001b[37m\u001b[0m \u001b[1m604s\u001b[0m 1s/step - accuracy: 0.7450 - loss: 0.5123 - val_accuracy: 0.7691 - val_loss: 0.4782\n",
            "Epoch 7/15\n",
            "\u001b[1m575/575\u001b[0m \u001b[32m━━━━━━━━━━━━━━━━━━━━\u001b[0m\u001b[37m\u001b[0m \u001b[1m594s\u001b[0m 1s/step - accuracy: 0.7609 - loss: 0.4926 - val_accuracy: 0.7685 - val_loss: 0.4780\n",
            "Epoch 8/15\n",
            "\u001b[1m575/575\u001b[0m \u001b[32m━━━━━━━━━━━━━━━━━━━━\u001b[0m\u001b[37m\u001b[0m \u001b[1m603s\u001b[0m 1s/step - accuracy: 0.7722 - loss: 0.4759 - val_accuracy: 0.7837 - val_loss: 0.4509\n",
            "Epoch 9/15\n",
            "\u001b[1m575/575\u001b[0m \u001b[32m━━━━━━━━━━━━━━━━━━━━\u001b[0m\u001b[37m\u001b[0m \u001b[1m605s\u001b[0m 1s/step - accuracy: 0.7718 - loss: 0.4815 - val_accuracy: 0.7891 - val_loss: 0.4532\n",
            "Epoch 10/15\n",
            "\u001b[1m575/575\u001b[0m \u001b[32m━━━━━━━━━━━━━━━━━━━━\u001b[0m\u001b[37m\u001b[0m \u001b[1m604s\u001b[0m 1s/step - accuracy: 0.7800 - loss: 0.4623 - val_accuracy: 0.7815 - val_loss: 0.4837\n",
            "Epoch 11/15\n",
            "\u001b[1m575/575\u001b[0m \u001b[32m━━━━━━━━━━━━━━━━━━━━\u001b[0m\u001b[37m\u001b[0m \u001b[1m610s\u001b[0m 1s/step - accuracy: 0.7946 - loss: 0.4387 - val_accuracy: 0.7937 - val_loss: 0.4389\n",
            "Epoch 12/15\n",
            "\u001b[1m575/575\u001b[0m \u001b[32m━━━━━━━━━━━━━━━━━━━━\u001b[0m\u001b[37m\u001b[0m \u001b[1m604s\u001b[0m 1s/step - accuracy: 0.7977 - loss: 0.4375 - val_accuracy: 0.8176 - val_loss: 0.4026\n",
            "Epoch 13/15\n",
            "\u001b[1m575/575\u001b[0m \u001b[32m━━━━━━━━━━━━━━━━━━━━\u001b[0m\u001b[37m\u001b[0m \u001b[1m0s\u001b[0m 968ms/step - accuracy: 0.8066 - loss: 0.4164"
          ]
        }
      ],
      "source": [
        "import tensorflow as tf\n",
        "from tensorflow.keras.models import Sequential\n",
        "from tensorflow.keras.layers import Conv2D, MaxPooling2D, Flatten, Dense, Dropout, BatchNormalization\n",
        "from tensorflow.keras.preprocessing.image import ImageDataGenerator\n",
        "from tensorflow.keras.optimizers import Adam\n",
        "import os\n",
        "import kagglehub # Import kagglehub to use the downloaded path\n",
        "\n",
        "# --- Step 1: Setup parameters ---\n",
        "IMG_SIZE = 100\n",
        "BATCH_SIZE = 32\n",
        "EPOCHS = 15\n",
        "\n",
        "# --- Step 2: Data loading & augmentation ---\n",
        "# Use the path from kagglehub download\n",
        "path = kagglehub.dataset_download(\"arpitjain007/dog-vs-cat-fastai\")\n",
        "DIRECTORY = os.path.join(path, 'dogscats', 'train') # Construct the correct path\n",
        "\n",
        "train_datagen = ImageDataGenerator(\n",
        "    rescale=1/255.0,\n",
        "    rotation_range=20,\n",
        "    width_shift_range=0.2,\n",
        "    height_shift_range=0.2,\n",
        "    zoom_range=0.2,\n",
        "    horizontal_flip=True,\n",
        "    validation_split=0.2  # 80% train, 20% validation\n",
        ")\n",
        "\n",
        "train_data = train_datagen.flow_from_directory(\n",
        "    DIRECTORY,  # Use the correct path\n",
        "    target_size=(IMG_SIZE, IMG_SIZE),\n",
        "    batch_size=BATCH_SIZE,\n",
        "    class_mode='binary',\n",
        "    subset='training'\n",
        ")\n",
        "\n",
        "val_data = train_datagen.flow_from_directory(\n",
        "    DIRECTORY, # Use the correct path\n",
        "    target_size=(IMG_SIZE, IMG_SIZE),\n",
        "    batch_size=BATCH_SIZE,\n",
        "    class_mode='binary',\n",
        "    subset='validation'\n",
        ")\n",
        "\n",
        "# --- Step 3: Define upgraded CNN ---\n",
        "model = Sequential([\n",
        "    Conv2D(32, (3,3), activation='relu', input_shape=(IMG_SIZE, IMG_SIZE, 3)),\n",
        "    BatchNormalization(),\n",
        "    MaxPooling2D(2,2),\n",
        "\n",
        "    Conv2D(64, (3,3), activation='relu'),\n",
        "    BatchNormalization(),\n",
        "    MaxPooling2D(2,2),\n",
        "\n",
        "    Conv2D(128, (3,3), activation='relu'),\n",
        "    BatchNormalization(),\n",
        "    MaxPooling2D(2,2),\n",
        "\n",
        "    Flatten(),\n",
        "    Dense(256, activation='relu'),\n",
        "    Dropout(0.5),\n",
        "    Dense(1, activation='sigmoid')\n",
        "])\n",
        "\n",
        "# --- Step 4: Compile ---\n",
        "model.compile(optimizer=Adam(learning_rate=0.0001),\n",
        "              loss='binary_crossentropy',\n",
        "              metrics=['accuracy'])\n",
        "\n",
        "# --- Step 5: Train ---\n",
        "history = model.fit(\n",
        "    train_data,\n",
        "    epochs=EPOCHS,\n",
        "    validation_data=val_data\n",
        ")\n",
        "\n",
        "# --- Step 6: Save model ---\n",
        "model.save(\"cats_vs_dogs_upgraded.h5\")\n",
        "\n",
        "print(\"✅ Training complete & model saved successfully!\")"
      ]
    },
    {
      "cell_type": "markdown",
      "metadata": {
        "id": "8X6JHitcGTom"
      },
      "source": [
        "## Load and use the trained model"
      ]
    },
    {
      "cell_type": "code",
      "execution_count": null,
      "metadata": {
        "id": "ogeugE8EDVdS"
      },
      "outputs": [],
      "source": [
        "import cv2\n",
        "import numpy as np\n",
        "import matplotlib.pyplot as plt\n",
        "from tensorflow.keras.models import load_model\n",
        "import kagglehub # Import kagglehub to use the downloaded path\n",
        "import os\n",
        "\n",
        "# Load trained model\n",
        "model = load_model(\"cats_vs_dogs_upgraded.h5\") # Load the upgraded model\n",
        "\n",
        "# Prediction function\n",
        "def predict_image(img_name, img_size=100): # Use img_name instead of img_path and update img_size\n",
        "    # Use the path from kagglehub download\n",
        "    path = kagglehub.dataset_download(\"arpitjain007/dog-vs-cat-fastai\")\n",
        "    # Construct the correct path to the test image\n",
        "    img_path = os.path.join(path, 'dogscats', 'train', 'cats', img_name) # Assuming the image is in the cats folder\n",
        "\n",
        "    # Load image\n",
        "    img = cv2.imread(img_path)\n",
        "    img_rgb = cv2.cvtColor(img, cv2.COLOR_BGR2RGB)\n",
        "    img_resized = cv2.resize(img_rgb, (img_size, img_size))\n",
        "\n",
        "    # Preprocess\n",
        "    img_array = img_resized.astype(\"float32\") / 255.0\n",
        "    img_array = np.expand_dims(img_array, axis=0)  # shape: (1, 100, 100, 3)\n",
        "\n",
        "    # Predict\n",
        "    prediction = model.predict(img_array)[0][0]\n",
        "    label = \"Dog\" if prediction > 0.5 else \"Cat\"\n",
        "\n",
        "    # Show image + prediction\n",
        "    plt.imshow(img_rgb)\n",
        "    plt.title(f\"Prediction: {label} ({prediction:.2f})\")\n",
        "    plt.axis(\"off\")\n",
        "    plt.show()\n",
        "\n",
        "    return label, prediction\n",
        "\n",
        "predict_image(\"cat.1.jpg\") # Use an example image name from the dataset"
      ]
    },
    {
      "cell_type": "markdown",
      "metadata": {
        "id": "dF-XTuNDE-NZ"
      },
      "source": [
        "**FULL CODE**"
      ]
    },
    {
      "cell_type": "code",
      "execution_count": null,
      "metadata": {
        "id": "QKw2x9XWErVA"
      },
      "outputs": [],
      "source": [
        "# --- Imports ---\n",
        "import numpy as np\n",
        "import cv2\n",
        "import os\n",
        "import matplotlib.pyplot as plt\n",
        "import random\n",
        "from sklearn.model_selection import train_test_split\n",
        "import tensorflow as tf\n",
        "from tensorflow.keras.models import Sequential, load_model\n",
        "from tensorflow.keras.layers import Conv2D, MaxPooling2D, Flatten, Dense, Dropout\n",
        "import kagglehub # Import kagglehub to use the downloaded path\n",
        "\n",
        "\n",
        "# --- Step 1: Load Dataset ---\n",
        "# Use the path from kagglehub download\n",
        "path = kagglehub.dataset_download(\"arpitjain007/dog-vs-cat-fastai\")\n",
        "DIRECTORY = os.path.join(path, 'dogscats', 'train') # Construct the correct path\n",
        "\n",
        "CATEGORIES = ['cats', 'dogs']  # must match folder names\n",
        "IMG_SIZE = 50\n",
        "\n",
        "data = []\n",
        "for category in CATEGORIES:\n",
        "    folder = os.path.join(DIRECTORY, category)\n",
        "    label = CATEGORIES.index(category)  # 0 = cat, 1 = dog\n",
        "    for img in os.listdir(folder):\n",
        "        try:\n",
        "            img_path = os.path.join(folder, img)\n",
        "            img_arr = cv2.imread(img_path)\n",
        "            img_rgb = cv2.cvtColor(img_arr, cv2.COLOR_BGR2RGB)\n",
        "            img_resized = cv2.resize(img_rgb, (IMG_SIZE, IMG_SIZE))\n",
        "            data.append([img_resized, label])\n",
        "        except Exception as e:\n",
        "            pass\n",
        "\n",
        "print(f\"Total images loaded: {len(data)}\")\n",
        "\n",
        "# Shuffle dataset\n",
        "random.shuffle(data)\n",
        "\n",
        "# Split features & labels\n",
        "X, y = [], []\n",
        "for features, label in data:\n",
        "    X.append(features)\n",
        "    y.append(label)\n",
        "\n",
        "X = np.array(X) / 255.0  # normalize\n",
        "y = np.array(y)\n",
        "\n",
        "print(\"X shape:\", X.shape)\n",
        "print(\"y shape:\", y.shape)\n",
        "\n",
        "# --- Step 2: Train/Test Split ---\n",
        "X_train, X_test, y_train, y_test = train_test_split(\n",
        "    X, y, test_size=0.2, random_state=42\n",
        ")\n",
        "\n",
        "print(\"Train set:\", X_train.shape, y_train.shape)\n",
        "print(\"Test set:\", X_test.shape, y_test.shape)\n",
        "\n",
        "# --- Step 3: Define CNN Model ---\n",
        "model = Sequential([\n",
        "    Conv2D(32, (3,3), activation='relu', input_shape=(IMG_SIZE, IMG_SIZE, 3)),\n",
        "    MaxPooling2D(pool_size=(2,2)),\n",
        "\n",
        "    Conv2D(64, (3,3), activation='relu'),\n",
        "    MaxPooling2D(pool_size=(2,2)),\n",
        "\n",
        "    Conv2D(128, (3,3), activation='relu'),\n",
        "    MaxPooling2D(pool_size=(2,2)),\n",
        "\n",
        "    Flatten(),\n",
        "    Dense(128, activation='relu'),\n",
        "    Dropout(0.5),\n",
        "    Dense(1, activation='sigmoid')  # binary classification\n",
        "])\n",
        "\n",
        "model.compile(optimizer='adam',\n",
        "              loss='binary_crossentropy',\n",
        "              metrics=['accuracy'])\n",
        "\n",
        "# --- Step 4: Train Model ---\n",
        "history = model.fit(\n",
        "    X_train, y_train,\n",
        "    epochs=10,\n",
        "    batch_size=32,\n",
        "    validation_data=(X_test, y_test)\n",
        ")\n",
        "\n",
        "# --- Step 5: Evaluate ---\n",
        "loss, acc = model.evaluate(X_test, y_test, verbose=0)\n",
        "print(f\"Test Accuracy: {acc*100:.2f}%\")\n",
        "\n",
        "# --- Step 6: Save Model ---\n",
        "model.save(\"cats_vs_dogs_cnn.h5\")\n",
        "print(\"Model saved as cats_vs_dogs_cnn.h5\")\n",
        "\n",
        "# --- Step 7: Plot Training History ---\n",
        "plt.plot(history.history['accuracy'], label='Train Acc')\n",
        "plt.plot(history.history['val_accuracy'], label='Val Acc')\n",
        "plt.xlabel('Epoch')\n",
        "plt.ylabel('Accuracy')\n",
        "plt.legend()\n",
        "plt.show()\n",
        "\n",
        "# --- Step 8: Prediction Function ---\n",
        "def predict_image(img_path, img_size=50):\n",
        "    img = cv2.imread(img_path)\n",
        "    img_rgb = cv2.cvtColor(img, cv2.COLOR_BGR2RGB)\n",
        "    img_resized = cv2.resize(img_rgb, (img_size, img_size))\n",
        "\n",
        "    img_array = img_resized.astype(\"float32\") / 255.0\n",
        "    img_array = np.expand_dims(img_array, axis=0)\n",
        "\n",
        "    prediction = model.predict(img_array)[0][0]\n",
        "    label = \"Dog\" if prediction > 0.5 else \"Cat\"\n",
        "\n",
        "    plt.imshow(img_rgb)\n",
        "    plt.title(f\"Prediction: {label} ({prediction:.2f})\")\n",
        "    plt.axis(\"off\")\n",
        "    plt.show()\n",
        "\n",
        "    return label, prediction\n",
        "\n",
        "# Example:\n",
        "# predict_image(\"/mnt/data/download.png\")"
      ]
    },
    {
      "cell_type": "code",
      "execution_count": null,
      "metadata": {
        "id": "TpdpYgrgIBjL"
      },
      "outputs": [],
      "source": [
        "predict_image(\"cat1.jpg\")"
      ]
    }
  ],
  "metadata": {
    "colab": {
      "provenance": []
    },
    "kernelspec": {
      "display_name": "Python 3",
      "name": "python3"
    },
    "language_info": {
      "name": "python"
    }
  },
  "nbformat": 4,
  "nbformat_minor": 0
}